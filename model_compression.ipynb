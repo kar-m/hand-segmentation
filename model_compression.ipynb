{
  "nbformat": 4,
  "nbformat_minor": 0,
  "metadata": {
    "colab": {
      "name": "model-compression.ipynb",
      "provenance": []
    },
    "kernelspec": {
      "name": "python3",
      "display_name": "Python 3"
    },
    "language_info": {
      "name": "python"
    },
    "accelerator": "GPU"
  },
  "cells": [
    {
      "cell_type": "code",
      "execution_count": 1,
      "metadata": {
        "colab": {
          "base_uri": "https://localhost:8080/"
        },
        "id": "VZL5HXpmHy59",
        "outputId": "9aca6b6f-5f74-4396-e632-88b2106a8ed0"
      },
      "outputs": [
        {
          "output_type": "stream",
          "name": "stdout",
          "text": [
            "\u001b[?25l\r\u001b[K     |█▌                              | 10 kB 25.3 MB/s eta 0:00:01\r\u001b[K     |███                             | 20 kB 9.4 MB/s eta 0:00:01\r\u001b[K     |████▋                           | 30 kB 7.6 MB/s eta 0:00:01\r\u001b[K     |██████▏                         | 40 kB 7.2 MB/s eta 0:00:01\r\u001b[K     |███████▊                        | 51 kB 5.4 MB/s eta 0:00:01\r\u001b[K     |█████████▎                      | 61 kB 5.5 MB/s eta 0:00:01\r\u001b[K     |██████████▊                     | 71 kB 5.4 MB/s eta 0:00:01\r\u001b[K     |████████████▎                   | 81 kB 6.0 MB/s eta 0:00:01\r\u001b[K     |█████████████▉                  | 92 kB 5.0 MB/s eta 0:00:01\r\u001b[K     |███████████████▍                | 102 kB 5.3 MB/s eta 0:00:01\r\u001b[K     |█████████████████               | 112 kB 5.3 MB/s eta 0:00:01\r\u001b[K     |██████████████████▌             | 122 kB 5.3 MB/s eta 0:00:01\r\u001b[K     |████████████████████            | 133 kB 5.3 MB/s eta 0:00:01\r\u001b[K     |█████████████████████▌          | 143 kB 5.3 MB/s eta 0:00:01\r\u001b[K     |███████████████████████         | 153 kB 5.3 MB/s eta 0:00:01\r\u001b[K     |████████████████████████▋       | 163 kB 5.3 MB/s eta 0:00:01\r\u001b[K     |██████████████████████████▏     | 174 kB 5.3 MB/s eta 0:00:01\r\u001b[K     |███████████████████████████▊    | 184 kB 5.3 MB/s eta 0:00:01\r\u001b[K     |█████████████████████████████▏  | 194 kB 5.3 MB/s eta 0:00:01\r\u001b[K     |██████████████████████████████▊ | 204 kB 5.3 MB/s eta 0:00:01\r\u001b[K     |████████████████████████████████| 213 kB 5.3 MB/s \n",
            "\u001b[?25h"
          ]
        }
      ],
      "source": [
        "! pip install -q tensorflow-model-optimization\n",
        "import tensorflow as tf\n",
        "import tensorflow_model_optimization as tfmot\n",
        "import numpy as np\n",
        "import pandas as pd\n",
        "import matplotlib.pyplot as plt\n",
        "from glob import glob\n",
        "from bs4 import BeautifulSoup\n",
        "import cv2 as cv\n",
        "from google.colab.patches import cv2_imshow as cv_imshow\n",
        "from sklearn.model_selection import train_test_split\n",
        "import random\n",
        "from google.colab import drive\n",
        "from tqdm import tqdm\n",
        "from keras.layers import Input,Conv2D,MaxPooling2D,UpSampling2D, BatchNormalization\n",
        "from keras.models import Model\n",
        "from keras import optimizers\n",
        "from time import time"
      ]
    },
    {
      "cell_type": "markdown",
      "source": [
        "<H1> Data Preparation"
      ],
      "metadata": {
        "id": "NvIIq26iall6"
      }
    },
    {
      "cell_type": "code",
      "source": [
        "drive._mount(\"/content/drive/\")\n",
        "\n",
        "path = '/content/drive/MyDrive/hand-segmentation/'\n",
        "mask_folder = 'skin_masks'\n",
        "img_folder = 'original_images'\n",
        "\n",
        "# get the paths for segmented masks\n",
        "mask_paths = []\n",
        "for name in glob(path + mask_folder + '/*.bmp'):\n",
        "  mask_paths.append(name)\n",
        "\n",
        "# get the paths for images of hands\n",
        "hand_paths = []\n",
        "for name in glob(path + img_folder + '/*.jpg'):\n",
        "  hand_paths.append(name)"
      ],
      "metadata": {
        "colab": {
          "base_uri": "https://localhost:8080/"
        },
        "id": "8MuYF8JHaH6J",
        "outputId": "abcc1f85-4725-4808-a751-1b5363cad3e4"
      },
      "execution_count": 2,
      "outputs": [
        {
          "output_type": "stream",
          "name": "stdout",
          "text": [
            "Mounted at /content/drive/\n"
          ]
        }
      ]
    },
    {
      "cell_type": "code",
      "source": [
        "hand_paths.sort()\n",
        "mask_paths.sort()"
      ],
      "metadata": {
        "id": "MrA36Shmq35c"
      },
      "execution_count": 3,
      "outputs": []
    },
    {
      "cell_type": "code",
      "source": [
        "def get_file_name(file_path: str) -> str:\n",
        "  name_ext = file_path.split('/')[-1]\n",
        "  name = name_ext.split('.')[0]\n",
        "\n",
        "  return name\n",
        "\n",
        "mask_paths.pop(537)\n",
        "\n",
        "for i in range(len(hand_paths)):\n",
        "  mask_name = get_file_name(mask_paths[i])\n",
        "  img_name = get_file_name(hand_paths[i])\n",
        "\n",
        "  if mask_name != img_name:\n",
        "    print(i, mask_name, img_name)\n",
        "    break"
      ],
      "metadata": {
        "id": "jTjb0-E8aKwn"
      },
      "execution_count": 4,
      "outputs": []
    },
    {
      "cell_type": "code",
      "source": [
        "# read the images and masks stored in the found paths\n",
        "\n",
        "hand_images = []\n",
        "for path in tqdm(hand_paths):\n",
        "  image = cv.imread(path)\n",
        "\n",
        "  # convert from BGR to HSV colorspace for easier classification later\n",
        "  image = cv.cvtColor(image,cv.COLOR_BGR2HSV)\n",
        "  hand_images.append(image)\n",
        "\n",
        "hand_masks = []\n",
        "for path in tqdm(mask_paths):\n",
        "  mask = cv.imread(path)\n",
        "  hand_masks.append(mask)"
      ],
      "metadata": {
        "colab": {
          "base_uri": "https://localhost:8080/"
        },
        "id": "hO9KDi93acMg",
        "outputId": "149aa0c5-b8ba-4575-e094-e460405574c4"
      },
      "execution_count": 5,
      "outputs": [
        {
          "output_type": "stream",
          "name": "stderr",
          "text": [
            "100%|██████████| 898/898 [00:19<00:00, 45.05it/s] \n",
            "100%|██████████| 898/898 [03:45<00:00,  3.99it/s]\n"
          ]
        }
      ]
    },
    {
      "cell_type": "code",
      "source": [
        "# convert the image and mask to float-arrays and normalise their values to be between 0 and 1\n",
        "\n",
        "for i in tqdm(range(len(hand_images))):\n",
        "  hand_images[i] = hand_images[i].astype('float32') / 255\n",
        "  hand_masks[i] = hand_masks[i].astype('float32') / 255"
      ],
      "metadata": {
        "colab": {
          "base_uri": "https://localhost:8080/"
        },
        "id": "FDyuklSYaiNo",
        "outputId": "efdea180-568e-4cd3-b8c7-d391dbfef201"
      },
      "execution_count": 6,
      "outputs": [
        {
          "output_type": "stream",
          "name": "stderr",
          "text": [
            "100%|██████████| 898/898 [00:02<00:00, 338.19it/s]\n"
          ]
        }
      ]
    },
    {
      "cell_type": "code",
      "source": [
        "# Resize all images to a standard size to make the data more appropriate for a CNN architecture\n",
        "\n",
        "res_images = []\n",
        "res_masks = []\n",
        "\n",
        "new_size = (128, 128)\n",
        "\n",
        "for i in range(len(hand_images)):\n",
        "\n",
        "  res_images.append(cv.resize(hand_images[i], new_size))\n",
        "\n",
        "  res_masks.append(cv.resize(hand_masks[i], new_size))"
      ],
      "metadata": {
        "id": "eH7csPanhEhM"
      },
      "execution_count": 7,
      "outputs": []
    },
    {
      "cell_type": "code",
      "source": [
        "del hand_images\n",
        "del hand_masks"
      ],
      "metadata": {
        "id": "uBm_FTrVkHd3"
      },
      "execution_count": 8,
      "outputs": []
    },
    {
      "cell_type": "code",
      "source": [
        "X = np.array(res_images)\n",
        "y = np.array(res_masks)\n",
        "y = y.sum(axis=3) / 3\n",
        "\n",
        "X_train, X_test, y_train, y_test = train_test_split(X, y, test_size=0.33, random_state=42)"
      ],
      "metadata": {
        "id": "ezOFyfpZlno8"
      },
      "execution_count": 74,
      "outputs": []
    },
    {
      "cell_type": "code",
      "source": [
        "from skimage.transform import rotate\n",
        "\n",
        "X_train_rot = []\n",
        "y_train_rot = []\n",
        "\n",
        "for i in tqdm(range(len(X_train))):\n",
        "  theta = random.randint(0, 359)\n",
        "\n",
        "  X_train_rot.append(rotate(X_train[i], angle=theta))\n",
        "  y_train_rot.append(rotate(y_train[i], angle=theta))\n",
        "\n",
        "X_train_rot = np.array(X_train_rot)\n",
        "y_train_rot = np.array(y_train_rot)"
      ],
      "metadata": {
        "colab": {
          "base_uri": "https://localhost:8080/"
        },
        "id": "kd9MPfMomJUq",
        "outputId": "6c917b7b-fd12-4e0c-b41a-3a9eecb5fef7"
      },
      "execution_count": 75,
      "outputs": [
        {
          "output_type": "stream",
          "name": "stderr",
          "text": [
            "100%|██████████| 601/601 [00:01<00:00, 367.44it/s]\n"
          ]
        }
      ]
    },
    {
      "cell_type": "code",
      "source": [
        "X_train = np.concatenate([X_train, X_train_rot])\n",
        "y_train = np.concatenate([y_train, y_train_rot])"
      ],
      "metadata": {
        "id": "auZYvThGmJqX"
      },
      "execution_count": 76,
      "outputs": []
    },
    {
      "cell_type": "code",
      "source": [
        "del X_train_rot\n",
        "del y_train_rot"
      ],
      "metadata": {
        "id": "2itteKn9mKAp"
      },
      "execution_count": 77,
      "outputs": []
    },
    {
      "cell_type": "code",
      "source": [
        "# Set up hyperparameters\n",
        "\n",
        "batch_size = 32\n",
        "epochs = 15\n",
        "inChannel = 3\n",
        "x, y = 128, 128\n",
        "input_img = Input(shape = (x, y, inChannel))\n",
        "\n",
        "def unet(input_img):\n",
        "\n",
        "  # First block Going down\n",
        "  d1_2 = Conv2D(16, (3, 3), activation='relu', padding='same')(input_img)\n",
        "  d1_3 = Conv2D(16, (3, 3), activation='relu', padding='same')(d1_2)\n",
        "\n",
        "  # Second block Going down\n",
        "  d2_1 = MaxPooling2D()(d1_3)\n",
        "  d2_2 = Conv2D(32, (3, 3), activation='relu', padding='same')(d2_1)\n",
        "  d2_3 = Conv2D(32, (3, 3), activation='relu', padding='same')(d2_2)\n",
        "\n",
        "  # Third block Going down\n",
        "  d3_1 = MaxPooling2D()(d2_3)\n",
        "  d3_2 = Conv2D(64, (3, 3), activation='relu', padding='same')(d3_1)\n",
        "  d3_3 = Conv2D(64, (3, 3), activation='relu', padding='same')(d3_2)\n",
        "\n",
        "  # Fourth block Going down\n",
        "  d4_1 = MaxPooling2D()(d3_3)\n",
        "  d4_2 = Conv2D(128, (3, 3), activation='relu', padding='same')(d4_1)\n",
        "  d4_3 = Conv2D(128, (3, 3), activation='relu', padding='same')(d4_2)\n",
        "\n",
        "  # Fifth block \n",
        "  d5_1 = MaxPooling2D()(d4_3)\n",
        "  d5_2 = Conv2D(256, (3, 3), activation='relu', padding='same')(d5_1)\n",
        "  d5_3 = Conv2D(256, (3, 3), activation='relu', padding='same')(d5_2)\n",
        "\n",
        "  # Fourth block going up, concatenated with Fourth block going down\n",
        "  up4_0 = UpSampling2D((2, 2))(d5_3)\n",
        "  up4_1 = tf.keras.layers.concatenate([d4_3, up4_0])\n",
        "  up4_2 = Conv2D(128, (3, 3), activation='relu', padding='same')(up4_1)\n",
        "  up4_3 = Conv2D(128, (3, 3), activation='relu', padding='same')(up4_2)\n",
        "\n",
        "  # Third block going up, concatenated with Third block going down\n",
        "  up3_0 = UpSampling2D((2, 2))(up4_3)\n",
        "  up3_1 = tf.keras.layers.concatenate([d3_3, up3_0])\n",
        "  up3_2 = Conv2D(64, (3, 3), activation='relu', padding='same')(up3_1)\n",
        "  up3_3 = Conv2D(64, (3, 3), activation='relu', padding='same')(up3_2)\n",
        "\n",
        "  # Second block going up, concatenated with Second block going down\n",
        "  up2_0 = UpSampling2D((2, 2))(up3_3)\n",
        "  up2_1 = tf.keras.layers.concatenate([d2_3, up2_0])\n",
        "  up2_2 = Conv2D(32, (3, 3), activation='relu', padding='same')(up2_1)\n",
        "  up2_3 = Conv2D(32, (3, 3), activation='relu', padding='same')(up2_2)\n",
        "\n",
        "  # First block going up, concatenated with First block going down\n",
        "  up1_0 = UpSampling2D((2, 2))(up2_3)\n",
        "  up1_1 = tf.keras.layers.concatenate([d1_3, up1_0])\n",
        "  up1_2 = Conv2D(16, (3, 3), activation='relu', padding='same')(up1_1)\n",
        "  up1_3 = Conv2D(16, (3, 3), activation='relu', padding='same')(up1_2)\n",
        "\n",
        "  # Output\n",
        "  out = Conv2D(1, (1, 1), activation='sigmoid', padding='same')(up1_3)\n",
        "\n",
        "  return out"
      ],
      "metadata": {
        "id": "9KOLC26NNpEP"
      },
      "execution_count": 78,
      "outputs": []
    },
    {
      "cell_type": "code",
      "source": [
        "unet = Model(input_img, unet(input_img))\n",
        "unet.compile(loss='mean_squared_error', optimizer = optimizers.rmsprop_v2.RMSprop())\n",
        "unet.load_weights('/content/drive/MyDrive/hand-segmentation/unet.h5')"
      ],
      "metadata": {
        "id": "rfAkx1emXf0U"
      },
      "execution_count": 79,
      "outputs": []
    },
    {
      "cell_type": "code",
      "source": [
        "def apply_quantization_to_model(layer):\n",
        "  if not isinstance(layer, tf.keras.layers.Concatenate):\n",
        "    return tfmot.quantization.keras.quantize_annotate_layer(layer)\n",
        "  return layer\n",
        "\n",
        "# Use `tf.keras.models.clone_model` to apply `apply_quantization_to_dense` \n",
        "# to the layers of the model.\n",
        "annotated_model = tf.keras.models.clone_model(\n",
        "    unet,\n",
        "    clone_function=apply_quantization_to_model,\n",
        ")\n",
        "\n",
        "# Now that the Dense layers are annotated,\n",
        "# `quantize_apply` actually makes the model quantization aware.\n",
        "q_aware_model = tfmot.quantization.keras.quantize_apply(annotated_model)"
      ],
      "metadata": {
        "id": "vAlYwu2Zz9bc"
      },
      "execution_count": 81,
      "outputs": []
    },
    {
      "cell_type": "code",
      "source": [
        "q_aware_model.compile(optimizer='adam',\n",
        "              loss='mean_squared_error',\n",
        "              metrics=['accuracy'])"
      ],
      "metadata": {
        "id": "qiqH4ORYsrfq"
      },
      "execution_count": 86,
      "outputs": []
    },
    {
      "cell_type": "code",
      "source": [
        "q_aware_model.fit(x=X_train, y=y_train, batch_size=batch_size, epochs=epochs)"
      ],
      "metadata": {
        "colab": {
          "base_uri": "https://localhost:8080/"
        },
        "id": "zCwiwCAVtczn",
        "outputId": "6423da5c-da2c-4194-a61b-7c7553f23d8d"
      },
      "execution_count": 87,
      "outputs": [
        {
          "output_type": "stream",
          "name": "stdout",
          "text": [
            "Epoch 1/15\n",
            "38/38 [==============================] - 66s 565ms/step - loss: 0.0068 - accuracy: 0.9690\n",
            "Epoch 2/15\n",
            "38/38 [==============================] - 19s 512ms/step - loss: 0.0055 - accuracy: 0.9704\n",
            "Epoch 3/15\n",
            "38/38 [==============================] - 19s 513ms/step - loss: 0.0053 - accuracy: 0.9706\n",
            "Epoch 4/15\n",
            "38/38 [==============================] - 20s 513ms/step - loss: 0.0046 - accuracy: 0.9714\n",
            "Epoch 5/15\n",
            "38/38 [==============================] - 20s 514ms/step - loss: 0.0041 - accuracy: 0.9720\n",
            "Epoch 6/15\n",
            "38/38 [==============================] - 20s 514ms/step - loss: 0.0038 - accuracy: 0.9723\n",
            "Epoch 7/15\n",
            "38/38 [==============================] - 20s 514ms/step - loss: 0.0036 - accuracy: 0.9725\n",
            "Epoch 8/15\n",
            "38/38 [==============================] - 19s 513ms/step - loss: 0.0033 - accuracy: 0.9727\n",
            "Epoch 9/15\n",
            "38/38 [==============================] - 20s 514ms/step - loss: 0.0032 - accuracy: 0.9729\n",
            "Epoch 10/15\n",
            "38/38 [==============================] - 20s 516ms/step - loss: 0.0031 - accuracy: 0.9730\n",
            "Epoch 11/15\n",
            "38/38 [==============================] - 20s 513ms/step - loss: 0.0030 - accuracy: 0.9731\n",
            "Epoch 12/15\n",
            "38/38 [==============================] - 20s 513ms/step - loss: 0.0029 - accuracy: 0.9732\n",
            "Epoch 13/15\n",
            "38/38 [==============================] - 19s 512ms/step - loss: 0.0027 - accuracy: 0.9733\n",
            "Epoch 14/15\n",
            "38/38 [==============================] - 19s 511ms/step - loss: 0.0026 - accuracy: 0.9735\n",
            "Epoch 15/15\n",
            "38/38 [==============================] - 19s 512ms/step - loss: 0.0025 - accuracy: 0.9736\n"
          ]
        },
        {
          "output_type": "execute_result",
          "data": {
            "text/plain": [
              "<keras.callbacks.History at 0x7f9780eb5c50>"
            ]
          },
          "metadata": {},
          "execution_count": 87
        }
      ]
    },
    {
      "cell_type": "code",
      "source": [
        "converter = tf.lite.TFLiteConverter.from_keras_model(q_aware_model)\n",
        "converter.optimizations = [tf.lite.Optimize.DEFAULT]\n",
        "\n",
        "tflite_qaware_model = converter.convert()"
      ],
      "metadata": {
        "colab": {
          "base_uri": "https://localhost:8080/"
        },
        "id": "t6hPgjhJ2xJG",
        "outputId": "9a7d5921-047d-4219-8f44-2d7a0fdeaade"
      },
      "execution_count": 88,
      "outputs": [
        {
          "output_type": "stream",
          "name": "stderr",
          "text": [
            "WARNING:absl:Found untraced functions such as conv2d_152_layer_call_fn, conv2d_152_layer_call_and_return_conditional_losses, conv2d_153_layer_call_fn, conv2d_153_layer_call_and_return_conditional_losses, conv2d_154_layer_call_fn while saving (showing 5 of 95). These functions will not be directly callable after loading.\n"
          ]
        },
        {
          "output_type": "stream",
          "name": "stdout",
          "text": [
            "INFO:tensorflow:Assets written to: /tmp/tmpckxg4el2/assets\n"
          ]
        },
        {
          "output_type": "stream",
          "name": "stderr",
          "text": [
            "INFO:tensorflow:Assets written to: /tmp/tmpckxg4el2/assets\n",
            "WARNING:absl:Buffer deduplication procedure will be skipped when flatbuffer library is not properly loaded\n"
          ]
        }
      ]
    },
    {
      "cell_type": "code",
      "source": [
        "with open(\"tflite_qaware_model.tflite\", 'wb') as f:\n",
        "    f.write(tflite_qaware_model)"
      ],
      "metadata": {
        "id": "w6IzWo6b6Bew"
      },
      "execution_count": 89,
      "outputs": []
    },
    {
      "cell_type": "code",
      "source": [
        "# Load the TFLite model and allocate tensors.\n",
        "interpreter = tf.lite.Interpreter(model_path=\"tflite_qaware_model.tflite\")\n",
        "interpreter.allocate_tensors()\n",
        "\n",
        "# Get input and output tensors.\n",
        "input_details = interpreter.get_input_details()\n",
        "output_details = interpreter.get_output_details()\n",
        "\n",
        "interpreter.set_tensor(input_details[0]['index'], X_test[0].reshape((1, 128, 128, 3)))\n",
        "\n",
        "interpreter.invoke()\n",
        "\n",
        "output_data = interpreter.get_tensor(output_details[0]['index'])"
      ],
      "metadata": {
        "id": "n12MpO9j61Nk"
      },
      "execution_count": 103,
      "outputs": []
    },
    {
      "cell_type": "code",
      "source": [
        "im = output_data.reshape(128, 128)\n",
        "plt.imshow(im, cmap='gray')"
      ],
      "metadata": {
        "colab": {
          "base_uri": "https://localhost:8080/",
          "height": 285
        },
        "id": "poVqPWTF9-2d",
        "outputId": "908c2b28-038c-42a8-e0fc-a768380cfcb5"
      },
      "execution_count": 104,
      "outputs": [
        {
          "output_type": "execute_result",
          "data": {
            "text/plain": [
              "<matplotlib.image.AxesImage at 0x7f977e0d6e90>"
            ]
          },
          "metadata": {},
          "execution_count": 104
        },
        {
          "output_type": "display_data",
          "data": {
            "image/png": "[encoded data removed]",
            "text/plain": [
              "<Figure size 432x288 with 1 Axes>"
            ]
          },
          "metadata": {
            "needs_background": "light"
          }
        }
      ]
    }
  ]
}